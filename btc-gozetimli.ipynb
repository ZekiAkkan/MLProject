{
 "cells": [
  {
   "cell_type": "code",
   "execution_count": 1,
   "id": "2f48560c",
   "metadata": {
    "_cell_guid": "b1076dfc-b9ad-4769-8c92-a6c4dae69d19",
    "_uuid": "8f2839f25d086af736a60e9eeb907d3b93b6e0e5",
    "execution": {
     "iopub.execute_input": "2024-09-19T19:08:59.426331Z",
     "iopub.status.busy": "2024-09-19T19:08:59.425189Z",
     "iopub.status.idle": "2024-09-19T19:08:59.877256Z",
     "shell.execute_reply": "2024-09-19T19:08:59.875915Z"
    },
    "papermill": {
     "duration": 0.470372,
     "end_time": "2024-09-19T19:08:59.879902",
     "exception": false,
     "start_time": "2024-09-19T19:08:59.409530",
     "status": "completed"
    },
    "tags": []
   },
   "outputs": [
    {
     "name": "stdout",
     "output_type": "stream",
     "text": [
      "/kaggle/input/bitcoin-historical-data/btcusd_1-min_data.csv\n"
     ]
    }
   ],
   "source": [
    "# This Python 3 environment comes with many helpful analytics libraries installed\n",
    "# It is defined by the kaggle/python Docker image: https://github.com/kaggle/docker-python\n",
    "# For example, here's several helpful packages to load\n",
    "\n",
    "import numpy as np # linear algebra\n",
    "import pandas as pd # data processing, CSV file I/O (e.g. pd.read_csv)\n",
    "\n",
    "# Input data files are available in the read-only \"../input/\" directory\n",
    "# For example, running this (by clicking run or pressing Shift+Enter) will list all files under the input directory\n",
    "\n",
    "import os\n",
    "for dirname, _, filenames in os.walk('/kaggle/input'):\n",
    "    for filename in filenames:\n",
    "        print(os.path.join(dirname, filename))\n",
    "\n",
    "# You can write up to 20GB to the current directory (/kaggle/working/) that gets preserved as output when you create a version using \"Save & Run All\" \n",
    "# You can also write temporary files to /kaggle/temp/, but they won't be saved outside of the current session"
   ]
  },
  {
   "cell_type": "code",
   "execution_count": 2,
   "id": "2d2fe684",
   "metadata": {
    "execution": {
     "iopub.execute_input": "2024-09-19T19:08:59.908988Z",
     "iopub.status.busy": "2024-09-19T19:08:59.908296Z",
     "iopub.status.idle": "2024-09-19T19:09:08.877375Z",
     "shell.execute_reply": "2024-09-19T19:09:08.876252Z"
    },
    "papermill": {
     "duration": 8.986562,
     "end_time": "2024-09-19T19:09:08.880236",
     "exception": false,
     "start_time": "2024-09-19T19:08:59.893674",
     "status": "completed"
    },
    "tags": []
   },
   "outputs": [],
   "source": [
    "df = pd.read_csv(\"/kaggle/input/bitcoin-historical-data/btcusd_1-min_data.csv\")"
   ]
  },
  {
   "cell_type": "code",
   "execution_count": 3,
   "id": "4a4092eb",
   "metadata": {
    "execution": {
     "iopub.execute_input": "2024-09-19T19:09:08.907712Z",
     "iopub.status.busy": "2024-09-19T19:09:08.907285Z",
     "iopub.status.idle": "2024-09-19T19:09:10.650516Z",
     "shell.execute_reply": "2024-09-19T19:09:10.649303Z"
    },
    "papermill": {
     "duration": 1.759814,
     "end_time": "2024-09-19T19:09:10.652956",
     "exception": false,
     "start_time": "2024-09-19T19:09:08.893142",
     "status": "completed"
    },
    "tags": []
   },
   "outputs": [
    {
     "data": {
      "text/html": [
       "<div>\n",
       "<style scoped>\n",
       "    .dataframe tbody tr th:only-of-type {\n",
       "        vertical-align: middle;\n",
       "    }\n",
       "\n",
       "    .dataframe tbody tr th {\n",
       "        vertical-align: top;\n",
       "    }\n",
       "\n",
       "    .dataframe thead th {\n",
       "        text-align: right;\n",
       "    }\n",
       "</style>\n",
       "<table border=\"1\" class=\"dataframe\">\n",
       "  <thead>\n",
       "    <tr style=\"text-align: right;\">\n",
       "      <th></th>\n",
       "      <th>Timestamp</th>\n",
       "      <th>Open</th>\n",
       "      <th>High</th>\n",
       "      <th>Low</th>\n",
       "      <th>Close</th>\n",
       "      <th>Volume</th>\n",
       "    </tr>\n",
       "  </thead>\n",
       "  <tbody>\n",
       "    <tr>\n",
       "      <th>count</th>\n",
       "      <td>6.685280e+06</td>\n",
       "      <td>6.685281e+06</td>\n",
       "      <td>6.685281e+06</td>\n",
       "      <td>6.685281e+06</td>\n",
       "      <td>6.685281e+06</td>\n",
       "      <td>6.685281e+06</td>\n",
       "    </tr>\n",
       "    <tr>\n",
       "      <th>mean</th>\n",
       "      <td>1.525993e+09</td>\n",
       "      <td>1.403937e+04</td>\n",
       "      <td>1.404551e+04</td>\n",
       "      <td>1.403304e+04</td>\n",
       "      <td>1.403939e+04</td>\n",
       "      <td>5.493203e+00</td>\n",
       "    </tr>\n",
       "    <tr>\n",
       "      <th>std</th>\n",
       "      <td>1.158067e+08</td>\n",
       "      <td>1.881954e+04</td>\n",
       "      <td>1.882700e+04</td>\n",
       "      <td>1.881195e+04</td>\n",
       "      <td>1.881963e+04</td>\n",
       "      <td>2.302263e+01</td>\n",
       "    </tr>\n",
       "    <tr>\n",
       "      <th>min</th>\n",
       "      <td>1.325412e+09</td>\n",
       "      <td>3.800000e+00</td>\n",
       "      <td>3.800000e+00</td>\n",
       "      <td>3.800000e+00</td>\n",
       "      <td>3.800000e+00</td>\n",
       "      <td>0.000000e+00</td>\n",
       "    </tr>\n",
       "    <tr>\n",
       "      <th>25%</th>\n",
       "      <td>1.425702e+09</td>\n",
       "      <td>4.091000e+02</td>\n",
       "      <td>4.093200e+02</td>\n",
       "      <td>4.089900e+02</td>\n",
       "      <td>4.090800e+02</td>\n",
       "      <td>1.817532e-02</td>\n",
       "    </tr>\n",
       "    <tr>\n",
       "      <th>50%</th>\n",
       "      <td>1.525992e+09</td>\n",
       "      <td>6.132170e+03</td>\n",
       "      <td>6.136360e+03</td>\n",
       "      <td>6.128070e+03</td>\n",
       "      <td>6.132190e+03</td>\n",
       "      <td>5.000000e-01</td>\n",
       "    </tr>\n",
       "    <tr>\n",
       "      <th>75%</th>\n",
       "      <td>1.626282e+09</td>\n",
       "      <td>2.247866e+04</td>\n",
       "      <td>2.248800e+04</td>\n",
       "      <td>2.246900e+04</td>\n",
       "      <td>2.247800e+04</td>\n",
       "      <td>3.202799e+00</td>\n",
       "    </tr>\n",
       "    <tr>\n",
       "      <th>max</th>\n",
       "      <td>1.726704e+09</td>\n",
       "      <td>7.379300e+04</td>\n",
       "      <td>7.379400e+04</td>\n",
       "      <td>7.373900e+04</td>\n",
       "      <td>7.379400e+04</td>\n",
       "      <td>5.853852e+03</td>\n",
       "    </tr>\n",
       "  </tbody>\n",
       "</table>\n",
       "</div>"
      ],
      "text/plain": [
       "          Timestamp          Open          High           Low         Close  \\\n",
       "count  6.685280e+06  6.685281e+06  6.685281e+06  6.685281e+06  6.685281e+06   \n",
       "mean   1.525993e+09  1.403937e+04  1.404551e+04  1.403304e+04  1.403939e+04   \n",
       "std    1.158067e+08  1.881954e+04  1.882700e+04  1.881195e+04  1.881963e+04   \n",
       "min    1.325412e+09  3.800000e+00  3.800000e+00  3.800000e+00  3.800000e+00   \n",
       "25%    1.425702e+09  4.091000e+02  4.093200e+02  4.089900e+02  4.090800e+02   \n",
       "50%    1.525992e+09  6.132170e+03  6.136360e+03  6.128070e+03  6.132190e+03   \n",
       "75%    1.626282e+09  2.247866e+04  2.248800e+04  2.246900e+04  2.247800e+04   \n",
       "max    1.726704e+09  7.379300e+04  7.379400e+04  7.373900e+04  7.379400e+04   \n",
       "\n",
       "             Volume  \n",
       "count  6.685281e+06  \n",
       "mean   5.493203e+00  \n",
       "std    2.302263e+01  \n",
       "min    0.000000e+00  \n",
       "25%    1.817532e-02  \n",
       "50%    5.000000e-01  \n",
       "75%    3.202799e+00  \n",
       "max    5.853852e+03  "
      ]
     },
     "execution_count": 3,
     "metadata": {},
     "output_type": "execute_result"
    }
   ],
   "source": [
    "df.describe()"
   ]
  },
  {
   "cell_type": "markdown",
   "id": "f5b39c53",
   "metadata": {
    "papermill": {
     "duration": 0.012769,
     "end_time": "2024-09-19T19:09:10.678806",
     "exception": false,
     "start_time": "2024-09-19T19:09:10.666037",
     "status": "completed"
    },
    "tags": []
   },
   "source": [
    "**--------------------------------------------------------------------------------**\n",
    "# Proje - Gözetimli Öğrenme\n",
    "**--------------------------------------------------------------------------------**"
   ]
  },
  {
   "cell_type": "code",
   "execution_count": 4,
   "id": "a06c9ac6",
   "metadata": {
    "execution": {
     "iopub.execute_input": "2024-09-19T19:09:10.707462Z",
     "iopub.status.busy": "2024-09-19T19:09:10.706569Z",
     "iopub.status.idle": "2024-09-19T19:09:12.665771Z",
     "shell.execute_reply": "2024-09-19T19:09:12.664645Z"
    },
    "papermill": {
     "duration": 1.976925,
     "end_time": "2024-09-19T19:09:12.668766",
     "exception": false,
     "start_time": "2024-09-19T19:09:10.691841",
     "status": "completed"
    },
    "tags": []
   },
   "outputs": [],
   "source": [
    "import pandas as pd\n",
    "import numpy as np\n",
    "import matplotlib.pyplot as plt\n",
    "import seaborn as sns\n",
    "from sklearn.model_selection import train_test_split\n",
    "from sklearn.linear_model import LinearRegression\n",
    "from sklearn.metrics import mean_squared_error, r2_score\n",
    "from sklearn.preprocessing import StandardScaler\n",
    "from sklearn.model_selection import GridSearchCV\n",
    "from sklearn.pipeline import Pipeline"
   ]
  },
  {
   "cell_type": "markdown",
   "id": "955cca55",
   "metadata": {
    "papermill": {
     "duration": 0.013246,
     "end_time": "2024-09-19T19:09:12.695857",
     "exception": false,
     "start_time": "2024-09-19T19:09:12.682611",
     "status": "completed"
    },
    "tags": []
   },
   "source": [
    "># Veri Setini Yükleme"
   ]
  },
  {
   "cell_type": "code",
   "execution_count": 5,
   "id": "999ebddd",
   "metadata": {
    "execution": {
     "iopub.execute_input": "2024-09-19T19:09:12.724200Z",
     "iopub.status.busy": "2024-09-19T19:09:12.723590Z",
     "iopub.status.idle": "2024-09-19T19:09:18.864015Z",
     "shell.execute_reply": "2024-09-19T19:09:18.863045Z"
    },
    "papermill": {
     "duration": 6.157563,
     "end_time": "2024-09-19T19:09:18.866630",
     "exception": false,
     "start_time": "2024-09-19T19:09:12.709067",
     "status": "completed"
    },
    "tags": []
   },
   "outputs": [],
   "source": [
    "data = pd.read_csv(\"/kaggle/input/bitcoin-historical-data/btcusd_1-min_data.csv\")"
   ]
  },
  {
   "cell_type": "markdown",
   "id": "ffa44f27",
   "metadata": {
    "papermill": {
     "duration": 0.012784,
     "end_time": "2024-09-19T19:09:18.892582",
     "exception": false,
     "start_time": "2024-09-19T19:09:18.879798",
     "status": "completed"
    },
    "tags": []
   },
   "source": [
    "> # Tarih dönüştürme"
   ]
  },
  {
   "cell_type": "code",
   "execution_count": 6,
   "id": "cb9dee42",
   "metadata": {
    "execution": {
     "iopub.execute_input": "2024-09-19T19:09:18.920980Z",
     "iopub.status.busy": "2024-09-19T19:09:18.920039Z",
     "iopub.status.idle": "2024-09-19T19:09:25.244159Z",
     "shell.execute_reply": "2024-09-19T19:09:25.243126Z"
    },
    "papermill": {
     "duration": 6.341501,
     "end_time": "2024-09-19T19:09:25.247063",
     "exception": false,
     "start_time": "2024-09-19T19:09:18.905562",
     "status": "completed"
    },
    "tags": []
   },
   "outputs": [],
   "source": [
    "data['Timestamp'] = pd.to_datetime(data['Timestamp'], unit='s')"
   ]
  },
  {
   "cell_type": "markdown",
   "id": "4aa7c621",
   "metadata": {
    "papermill": {
     "duration": 0.013215,
     "end_time": "2024-09-19T19:09:25.274508",
     "exception": false,
     "start_time": "2024-09-19T19:09:25.261293",
     "status": "completed"
    },
    "tags": []
   },
   "source": [
    "> # Eksik değerleri temizle"
   ]
  },
  {
   "cell_type": "code",
   "execution_count": 7,
   "id": "3f700ced",
   "metadata": {
    "execution": {
     "iopub.execute_input": "2024-09-19T19:09:25.303022Z",
     "iopub.status.busy": "2024-09-19T19:09:25.302199Z",
     "iopub.status.idle": "2024-09-19T19:09:25.477293Z",
     "shell.execute_reply": "2024-09-19T19:09:25.476056Z"
    },
    "papermill": {
     "duration": 0.192566,
     "end_time": "2024-09-19T19:09:25.480081",
     "exception": false,
     "start_time": "2024-09-19T19:09:25.287515",
     "status": "completed"
    },
    "tags": []
   },
   "outputs": [],
   "source": [
    "data.replace([np.inf, -np.inf], np.nan, inplace=True)"
   ]
  },
  {
   "cell_type": "code",
   "execution_count": 8,
   "id": "fe19c600",
   "metadata": {
    "execution": {
     "iopub.execute_input": "2024-09-19T19:09:25.508772Z",
     "iopub.status.busy": "2024-09-19T19:09:25.507965Z",
     "iopub.status.idle": "2024-09-19T19:09:26.036630Z",
     "shell.execute_reply": "2024-09-19T19:09:26.035477Z"
    },
    "papermill": {
     "duration": 0.546163,
     "end_time": "2024-09-19T19:09:26.039480",
     "exception": false,
     "start_time": "2024-09-19T19:09:25.493317",
     "status": "completed"
    },
    "tags": []
   },
   "outputs": [],
   "source": [
    "data.fillna(data.mean(), inplace=True)"
   ]
  },
  {
   "cell_type": "markdown",
   "id": "a752e018",
   "metadata": {
    "papermill": {
     "duration": 0.012849,
     "end_time": "2024-09-19T19:09:26.065534",
     "exception": false,
     "start_time": "2024-09-19T19:09:26.052685",
     "status": "completed"
    },
    "tags": []
   },
   "source": [
    "> # Özellikler (X) ve hedef değişkeni (y) tanımla"
   ]
  },
  {
   "cell_type": "code",
   "execution_count": 9,
   "id": "157726fa",
   "metadata": {
    "execution": {
     "iopub.execute_input": "2024-09-19T19:09:26.093264Z",
     "iopub.status.busy": "2024-09-19T19:09:26.092798Z",
     "iopub.status.idle": "2024-09-19T19:09:26.169771Z",
     "shell.execute_reply": "2024-09-19T19:09:26.168518Z"
    },
    "papermill": {
     "duration": 0.094039,
     "end_time": "2024-09-19T19:09:26.172499",
     "exception": false,
     "start_time": "2024-09-19T19:09:26.078460",
     "status": "completed"
    },
    "tags": []
   },
   "outputs": [],
   "source": [
    "X = data[['Open', 'High', 'Low', 'Volume']]\n",
    "y = data['Close']"
   ]
  },
  {
   "cell_type": "markdown",
   "id": "b6b179b8",
   "metadata": {
    "papermill": {
     "duration": 0.012724,
     "end_time": "2024-09-19T19:09:26.198548",
     "exception": false,
     "start_time": "2024-09-19T19:09:26.185824",
     "status": "completed"
    },
    "tags": []
   },
   "source": [
    "> # Eğitim ve test setlerine ayırma"
   ]
  },
  {
   "cell_type": "code",
   "execution_count": 10,
   "id": "cc78ec5f",
   "metadata": {
    "execution": {
     "iopub.execute_input": "2024-09-19T19:09:26.226448Z",
     "iopub.status.busy": "2024-09-19T19:09:26.225958Z",
     "iopub.status.idle": "2024-09-19T19:09:27.177740Z",
     "shell.execute_reply": "2024-09-19T19:09:27.176528Z"
    },
    "papermill": {
     "duration": 0.969118,
     "end_time": "2024-09-19T19:09:27.180573",
     "exception": false,
     "start_time": "2024-09-19T19:09:26.211455",
     "status": "completed"
    },
    "tags": []
   },
   "outputs": [],
   "source": [
    "X_train, X_test, y_train, y_test = train_test_split(X, y, test_size=0.2, random_state=42)"
   ]
  },
  {
   "cell_type": "markdown",
   "id": "4870c6d4",
   "metadata": {
    "papermill": {
     "duration": 0.012835,
     "end_time": "2024-09-19T19:09:27.206588",
     "exception": false,
     "start_time": "2024-09-19T19:09:27.193753",
     "status": "completed"
    },
    "tags": []
   },
   "source": [
    "> # Modeli oluştur ve eğit"
   ]
  },
  {
   "cell_type": "code",
   "execution_count": 11,
   "id": "0dd600fb",
   "metadata": {
    "execution": {
     "iopub.execute_input": "2024-09-19T19:09:27.234689Z",
     "iopub.status.busy": "2024-09-19T19:09:27.234240Z",
     "iopub.status.idle": "2024-09-19T19:09:28.767875Z",
     "shell.execute_reply": "2024-09-19T19:09:28.766791Z"
    },
    "papermill": {
     "duration": 1.550687,
     "end_time": "2024-09-19T19:09:28.770331",
     "exception": false,
     "start_time": "2024-09-19T19:09:27.219644",
     "status": "completed"
    },
    "tags": []
   },
   "outputs": [
    {
     "data": {
      "text/html": [
       "<style>#sk-container-id-1 {color: black;background-color: white;}#sk-container-id-1 pre{padding: 0;}#sk-container-id-1 div.sk-toggleable {background-color: white;}#sk-container-id-1 label.sk-toggleable__label {cursor: pointer;display: block;width: 100%;margin-bottom: 0;padding: 0.3em;box-sizing: border-box;text-align: center;}#sk-container-id-1 label.sk-toggleable__label-arrow:before {content: \"▸\";float: left;margin-right: 0.25em;color: #696969;}#sk-container-id-1 label.sk-toggleable__label-arrow:hover:before {color: black;}#sk-container-id-1 div.sk-estimator:hover label.sk-toggleable__label-arrow:before {color: black;}#sk-container-id-1 div.sk-toggleable__content {max-height: 0;max-width: 0;overflow: hidden;text-align: left;background-color: #f0f8ff;}#sk-container-id-1 div.sk-toggleable__content pre {margin: 0.2em;color: black;border-radius: 0.25em;background-color: #f0f8ff;}#sk-container-id-1 input.sk-toggleable__control:checked~div.sk-toggleable__content {max-height: 200px;max-width: 100%;overflow: auto;}#sk-container-id-1 input.sk-toggleable__control:checked~label.sk-toggleable__label-arrow:before {content: \"▾\";}#sk-container-id-1 div.sk-estimator input.sk-toggleable__control:checked~label.sk-toggleable__label {background-color: #d4ebff;}#sk-container-id-1 div.sk-label input.sk-toggleable__control:checked~label.sk-toggleable__label {background-color: #d4ebff;}#sk-container-id-1 input.sk-hidden--visually {border: 0;clip: rect(1px 1px 1px 1px);clip: rect(1px, 1px, 1px, 1px);height: 1px;margin: -1px;overflow: hidden;padding: 0;position: absolute;width: 1px;}#sk-container-id-1 div.sk-estimator {font-family: monospace;background-color: #f0f8ff;border: 1px dotted black;border-radius: 0.25em;box-sizing: border-box;margin-bottom: 0.5em;}#sk-container-id-1 div.sk-estimator:hover {background-color: #d4ebff;}#sk-container-id-1 div.sk-parallel-item::after {content: \"\";width: 100%;border-bottom: 1px solid gray;flex-grow: 1;}#sk-container-id-1 div.sk-label:hover label.sk-toggleable__label {background-color: #d4ebff;}#sk-container-id-1 div.sk-serial::before {content: \"\";position: absolute;border-left: 1px solid gray;box-sizing: border-box;top: 0;bottom: 0;left: 50%;z-index: 0;}#sk-container-id-1 div.sk-serial {display: flex;flex-direction: column;align-items: center;background-color: white;padding-right: 0.2em;padding-left: 0.2em;position: relative;}#sk-container-id-1 div.sk-item {position: relative;z-index: 1;}#sk-container-id-1 div.sk-parallel {display: flex;align-items: stretch;justify-content: center;background-color: white;position: relative;}#sk-container-id-1 div.sk-item::before, #sk-container-id-1 div.sk-parallel-item::before {content: \"\";position: absolute;border-left: 1px solid gray;box-sizing: border-box;top: 0;bottom: 0;left: 50%;z-index: -1;}#sk-container-id-1 div.sk-parallel-item {display: flex;flex-direction: column;z-index: 1;position: relative;background-color: white;}#sk-container-id-1 div.sk-parallel-item:first-child::after {align-self: flex-end;width: 50%;}#sk-container-id-1 div.sk-parallel-item:last-child::after {align-self: flex-start;width: 50%;}#sk-container-id-1 div.sk-parallel-item:only-child::after {width: 0;}#sk-container-id-1 div.sk-dashed-wrapped {border: 1px dashed gray;margin: 0 0.4em 0.5em 0.4em;box-sizing: border-box;padding-bottom: 0.4em;background-color: white;}#sk-container-id-1 div.sk-label label {font-family: monospace;font-weight: bold;display: inline-block;line-height: 1.2em;}#sk-container-id-1 div.sk-label-container {text-align: center;}#sk-container-id-1 div.sk-container {/* jupyter's `normalize.less` sets `[hidden] { display: none; }` but bootstrap.min.css set `[hidden] { display: none !important; }` so we also need the `!important` here to be able to override the default hidden behavior on the sphinx rendered scikit-learn.org. See: https://github.com/scikit-learn/scikit-learn/issues/21755 */display: inline-block !important;position: relative;}#sk-container-id-1 div.sk-text-repr-fallback {display: none;}</style><div id=\"sk-container-id-1\" class=\"sk-top-container\"><div class=\"sk-text-repr-fallback\"><pre>LinearRegression()</pre><b>In a Jupyter environment, please rerun this cell to show the HTML representation or trust the notebook. <br />On GitHub, the HTML representation is unable to render, please try loading this page with nbviewer.org.</b></div><div class=\"sk-container\" hidden><div class=\"sk-item\"><div class=\"sk-estimator sk-toggleable\"><input class=\"sk-toggleable__control sk-hidden--visually\" id=\"sk-estimator-id-1\" type=\"checkbox\" checked><label for=\"sk-estimator-id-1\" class=\"sk-toggleable__label sk-toggleable__label-arrow\">LinearRegression</label><div class=\"sk-toggleable__content\"><pre>LinearRegression()</pre></div></div></div></div></div>"
      ],
      "text/plain": [
       "LinearRegression()"
      ]
     },
     "execution_count": 11,
     "metadata": {},
     "output_type": "execute_result"
    }
   ],
   "source": [
    "model = LinearRegression()\n",
    "model.fit(X_train, y_train)"
   ]
  },
  {
   "cell_type": "markdown",
   "id": "0905e07a",
   "metadata": {
    "papermill": {
     "duration": 0.013,
     "end_time": "2024-09-19T19:09:28.796609",
     "exception": false,
     "start_time": "2024-09-19T19:09:28.783609",
     "status": "completed"
    },
    "tags": []
   },
   "source": [
    "> # Test seti üzerinde tahminler yapma"
   ]
  },
  {
   "cell_type": "code",
   "execution_count": 12,
   "id": "cdae0b78",
   "metadata": {
    "execution": {
     "iopub.execute_input": "2024-09-19T19:09:28.825012Z",
     "iopub.status.busy": "2024-09-19T19:09:28.824272Z",
     "iopub.status.idle": "2024-09-19T19:09:28.843795Z",
     "shell.execute_reply": "2024-09-19T19:09:28.842140Z"
    },
    "papermill": {
     "duration": 0.038216,
     "end_time": "2024-09-19T19:09:28.848031",
     "exception": false,
     "start_time": "2024-09-19T19:09:28.809815",
     "status": "completed"
    },
    "tags": []
   },
   "outputs": [],
   "source": [
    "y_pred = model.predict(X_test)"
   ]
  },
  {
   "cell_type": "markdown",
   "id": "80f1f21d",
   "metadata": {
    "papermill": {
     "duration": 0.027156,
     "end_time": "2024-09-19T19:09:28.902787",
     "exception": false,
     "start_time": "2024-09-19T19:09:28.875631",
     "status": "completed"
    },
    "tags": []
   },
   "source": [
    "> # Model değerlendirmesi"
   ]
  },
  {
   "cell_type": "code",
   "execution_count": 13,
   "id": "0e3501f5",
   "metadata": {
    "execution": {
     "iopub.execute_input": "2024-09-19T19:09:28.959454Z",
     "iopub.status.busy": "2024-09-19T19:09:28.958966Z",
     "iopub.status.idle": "2024-09-19T19:09:28.982404Z",
     "shell.execute_reply": "2024-09-19T19:09:28.981254Z"
    },
    "papermill": {
     "duration": 0.055218,
     "end_time": "2024-09-19T19:09:28.985205",
     "exception": false,
     "start_time": "2024-09-19T19:09:28.929987",
     "status": "completed"
    },
    "tags": []
   },
   "outputs": [],
   "source": [
    "mse = mean_squared_error(y_test, y_pred)\n",
    "r2 = r2_score(y_test, y_pred)"
   ]
  },
  {
   "cell_type": "code",
   "execution_count": 14,
   "id": "0e4f6570",
   "metadata": {
    "execution": {
     "iopub.execute_input": "2024-09-19T19:09:29.013810Z",
     "iopub.status.busy": "2024-09-19T19:09:29.013391Z",
     "iopub.status.idle": "2024-09-19T19:09:29.019029Z",
     "shell.execute_reply": "2024-09-19T19:09:29.017985Z"
    },
    "papermill": {
     "duration": 0.023165,
     "end_time": "2024-09-19T19:09:29.021781",
     "exception": false,
     "start_time": "2024-09-19T19:09:28.998616",
     "status": "completed"
    },
    "tags": []
   },
   "outputs": [
    {
     "name": "stdout",
     "output_type": "stream",
     "text": [
      "Mean Squared Error: 95.40488447841753\n",
      "R2 Score: 0.9999997305684319\n"
     ]
    }
   ],
   "source": [
    "print(f\"Mean Squared Error: {mse}\")\n",
    "print(f\"R2 Score: {r2}\")"
   ]
  },
  {
   "cell_type": "markdown",
   "id": "57a18bbc",
   "metadata": {
    "papermill": {
     "duration": 0.013051,
     "end_time": "2024-09-19T19:09:29.048147",
     "exception": false,
     "start_time": "2024-09-19T19:09:29.035096",
     "status": "completed"
    },
    "tags": []
   },
   "source": [
    "># Sonuçları bir DataFrame'de görme"
   ]
  },
  {
   "cell_type": "code",
   "execution_count": 15,
   "id": "70809c73",
   "metadata": {
    "execution": {
     "iopub.execute_input": "2024-09-19T19:09:29.077793Z",
     "iopub.status.busy": "2024-09-19T19:09:29.076954Z",
     "iopub.status.idle": "2024-09-19T19:09:29.092616Z",
     "shell.execute_reply": "2024-09-19T19:09:29.091275Z"
    },
    "papermill": {
     "duration": 0.033365,
     "end_time": "2024-09-19T19:09:29.095238",
     "exception": false,
     "start_time": "2024-09-19T19:09:29.061873",
     "status": "completed"
    },
    "tags": []
   },
   "outputs": [
    {
     "name": "stdout",
     "output_type": "stream",
     "text": [
      "         Gerçek Değerler    Tahminler\n",
      "3305961          8081.94  8080.382907\n",
      "4235022          8582.61  8581.712308\n",
      "416947             11.94    11.938541\n",
      "971429            239.49   239.491046\n",
      "2226756           415.92   415.916655\n"
     ]
    }
   ],
   "source": [
    "result_df = pd.DataFrame({'Gerçek Değerler': y_test, 'Tahminler': y_pred})\n",
    "print(result_df.head())"
   ]
  },
  {
   "cell_type": "markdown",
   "id": "7221aa00",
   "metadata": {
    "papermill": {
     "duration": 0.013188,
     "end_time": "2024-09-19T19:09:29.121991",
     "exception": false,
     "start_time": "2024-09-19T19:09:29.108803",
     "status": "completed"
    },
    "tags": []
   },
   "source": [
    "> # Grafikleştirme"
   ]
  },
  {
   "cell_type": "code",
   "execution_count": 16,
   "id": "ef9a7039",
   "metadata": {
    "execution": {
     "iopub.execute_input": "2024-09-19T19:09:29.151388Z",
     "iopub.status.busy": "2024-09-19T19:09:29.150345Z",
     "iopub.status.idle": "2024-09-19T19:09:29.169793Z",
     "shell.execute_reply": "2024-09-19T19:09:29.168604Z"
    },
    "papermill": {
     "duration": 0.037146,
     "end_time": "2024-09-19T19:09:29.172544",
     "exception": false,
     "start_time": "2024-09-19T19:09:29.135398",
     "status": "completed"
    },
    "tags": []
   },
   "outputs": [
    {
     "data": {
      "text/plain": [
       "<Figure size 1200x600 with 0 Axes>"
      ]
     },
     "execution_count": 16,
     "metadata": {},
     "output_type": "execute_result"
    },
    {
     "data": {
      "text/plain": [
       "<Figure size 1200x600 with 0 Axes>"
      ]
     },
     "metadata": {},
     "output_type": "display_data"
    }
   ],
   "source": [
    "plt.figure(figsize=(12, 6))"
   ]
  },
  {
   "cell_type": "code",
   "execution_count": 17,
   "id": "7175632d",
   "metadata": {
    "execution": {
     "iopub.execute_input": "2024-09-19T19:09:29.202679Z",
     "iopub.status.busy": "2024-09-19T19:09:29.201951Z",
     "iopub.status.idle": "2024-09-19T19:09:34.848056Z",
     "shell.execute_reply": "2024-09-19T19:09:34.847040Z"
    },
    "papermill": {
     "duration": 5.664172,
     "end_time": "2024-09-19T19:09:34.850855",
     "exception": false,
     "start_time": "2024-09-19T19:09:29.186683",
     "status": "completed"
    },
    "tags": []
   },
   "outputs": [
    {
     "data": {
      "text/plain": [
       "Text(0.5, 1.0, 'Gerçek Değerler vs Tahminler')"
      ]
     },
     "execution_count": 17,
     "metadata": {},
     "output_type": "execute_result"
    },
    {
     "data": {
      "image/png": "[encoded data removed]",
      "text/plain": [
       "<Figure size 640x480 with 1 Axes>"
      ]
     },
     "metadata": {},
     "output_type": "display_data"
    }
   ],
   "source": [
    "plt.subplot(1, 2, 1)\n",
    "sns.scatterplot(x=y_test, y=y_pred)\n",
    "plt.xlabel('Gerçek Değerler')\n",
    "plt.ylabel('Tahminler')\n",
    "plt.title('Gerçek Değerler vs Tahminler')"
   ]
  },
  {
   "cell_type": "code",
   "execution_count": 18,
   "id": "ed8ecba8",
   "metadata": {
    "execution": {
     "iopub.execute_input": "2024-09-19T19:09:34.882320Z",
     "iopub.status.busy": "2024-09-19T19:09:34.881566Z",
     "iopub.status.idle": "2024-09-19T19:09:42.155033Z",
     "shell.execute_reply": "2024-09-19T19:09:42.153433Z"
    },
    "papermill": {
     "duration": 7.293633,
     "end_time": "2024-09-19T19:09:42.159308",
     "exception": false,
     "start_time": "2024-09-19T19:09:34.865675",
     "status": "completed"
    },
    "tags": []
   },
   "outputs": [
    {
     "name": "stderr",
     "output_type": "stream",
     "text": [
      "/opt/conda/lib/python3.10/site-packages/seaborn/_oldcore.py:1119: FutureWarning: use_inf_as_na option is deprecated and will be removed in a future version. Convert inf values to NaN before operating instead.\n",
      "  with pd.option_context('mode.use_inf_as_na', True):\n"
     ]
    },
    {
     "data": {
      "text/plain": [
       "Text(0.5, 1.0, 'Tahmin Hatalarının Dağılımı')"
      ]
     },
     "execution_count": 18,
     "metadata": {},
     "output_type": "execute_result"
    },
    {
     "data": {
      "image/png": "[encoded data removed]",
      "text/plain": [
       "<Figure size 640x480 with 1 Axes>"
      ]
     },
     "metadata": {},
     "output_type": "display_data"
    }
   ],
   "source": [
    "plt.subplot(1, 2, 2)\n",
    "sns.histplot(y_test - y_pred, bins=30, kde=True)\n",
    "plt.xlabel('Hata')\n",
    "plt.title('Tahmin Hatalarının Dağılımı')"
   ]
  },
  {
   "cell_type": "code",
   "execution_count": 19,
   "id": "ba13aafc",
   "metadata": {
    "execution": {
     "iopub.execute_input": "2024-09-19T19:09:42.196707Z",
     "iopub.status.busy": "2024-09-19T19:09:42.196258Z",
     "iopub.status.idle": "2024-09-19T19:09:42.205024Z",
     "shell.execute_reply": "2024-09-19T19:09:42.203904Z"
    },
    "papermill": {
     "duration": 0.028039,
     "end_time": "2024-09-19T19:09:42.207588",
     "exception": false,
     "start_time": "2024-09-19T19:09:42.179549",
     "status": "completed"
    },
    "tags": []
   },
   "outputs": [
    {
     "data": {
      "text/plain": [
       "<Figure size 640x480 with 0 Axes>"
      ]
     },
     "metadata": {},
     "output_type": "display_data"
    }
   ],
   "source": [
    "plt.tight_layout()\n",
    "plt.show()"
   ]
  },
  {
   "cell_type": "markdown",
   "id": "bc8d374f",
   "metadata": {
    "papermill": {
     "duration": 0.015361,
     "end_time": "2024-09-19T19:09:42.238528",
     "exception": false,
     "start_time": "2024-09-19T19:09:42.223167",
     "status": "completed"
    },
    "tags": []
   },
   "source": [
    "># # Pipeline oluşturma "
   ]
  },
  {
   "cell_type": "code",
   "execution_count": 20,
   "id": "84dc875a",
   "metadata": {
    "execution": {
     "iopub.execute_input": "2024-09-19T19:09:42.271588Z",
     "iopub.status.busy": "2024-09-19T19:09:42.270666Z",
     "iopub.status.idle": "2024-09-19T19:09:42.276056Z",
     "shell.execute_reply": "2024-09-19T19:09:42.274985Z"
    },
    "papermill": {
     "duration": 0.024707,
     "end_time": "2024-09-19T19:09:42.278556",
     "exception": false,
     "start_time": "2024-09-19T19:09:42.253849",
     "status": "completed"
    },
    "tags": []
   },
   "outputs": [],
   "source": [
    "pipeline = Pipeline([\n",
    "    ('scaler', StandardScaler()), \n",
    "    ('lr', LinearRegression())     \n",
    "])"
   ]
  },
  {
   "cell_type": "markdown",
   "id": "8a78ea79",
   "metadata": {
    "papermill": {
     "duration": 0.015357,
     "end_time": "2024-09-19T19:09:42.309477",
     "exception": false,
     "start_time": "2024-09-19T19:09:42.294120",
     "status": "completed"
    },
    "tags": []
   },
   "source": [
    "># Parametreleri Ayarlama "
   ]
  },
  {
   "cell_type": "code",
   "execution_count": 21,
   "id": "649ce638",
   "metadata": {
    "execution": {
     "iopub.execute_input": "2024-09-19T19:09:42.342518Z",
     "iopub.status.busy": "2024-09-19T19:09:42.342084Z",
     "iopub.status.idle": "2024-09-19T19:09:42.347609Z",
     "shell.execute_reply": "2024-09-19T19:09:42.346506Z"
    },
    "papermill": {
     "duration": 0.02474,
     "end_time": "2024-09-19T19:09:42.350004",
     "exception": false,
     "start_time": "2024-09-19T19:09:42.325264",
     "status": "completed"
    },
    "tags": []
   },
   "outputs": [],
   "source": [
    "param_grid = {\n",
    "    'lr__fit_intercept': [True, False],  \n",
    "    'lr__positive': [True, False]        \n",
    "}"
   ]
  },
  {
   "cell_type": "code",
   "execution_count": 22,
   "id": "7bd0092d",
   "metadata": {
    "execution": {
     "iopub.execute_input": "2024-09-19T19:09:42.383757Z",
     "iopub.status.busy": "2024-09-19T19:09:42.382768Z",
     "iopub.status.idle": "2024-09-19T19:09:59.132055Z",
     "shell.execute_reply": "2024-09-19T19:09:59.130830Z"
    },
    "papermill": {
     "duration": 16.769163,
     "end_time": "2024-09-19T19:09:59.134865",
     "exception": false,
     "start_time": "2024-09-19T19:09:42.365702",
     "status": "completed"
    },
    "tags": []
   },
   "outputs": [
    {
     "data": {
      "text/html": [
       "<style>#sk-container-id-2 {color: black;background-color: white;}#sk-container-id-2 pre{padding: 0;}#sk-container-id-2 div.sk-toggleable {background-color: white;}#sk-container-id-2 label.sk-toggleable__label {cursor: pointer;display: block;width: 100%;margin-bottom: 0;padding: 0.3em;box-sizing: border-box;text-align: center;}#sk-container-id-2 label.sk-toggleable__label-arrow:before {content: \"▸\";float: left;margin-right: 0.25em;color: #696969;}#sk-container-id-2 label.sk-toggleable__label-arrow:hover:before {color: black;}#sk-container-id-2 div.sk-estimator:hover label.sk-toggleable__label-arrow:before {color: black;}#sk-container-id-2 div.sk-toggleable__content {max-height: 0;max-width: 0;overflow: hidden;text-align: left;background-color: #f0f8ff;}#sk-container-id-2 div.sk-toggleable__content pre {margin: 0.2em;color: black;border-radius: 0.25em;background-color: #f0f8ff;}#sk-container-id-2 input.sk-toggleable__control:checked~div.sk-toggleable__content {max-height: 200px;max-width: 100%;overflow: auto;}#sk-container-id-2 input.sk-toggleable__control:checked~label.sk-toggleable__label-arrow:before {content: \"▾\";}#sk-container-id-2 div.sk-estimator input.sk-toggleable__control:checked~label.sk-toggleable__label {background-color: #d4ebff;}#sk-container-id-2 div.sk-label input.sk-toggleable__control:checked~label.sk-toggleable__label {background-color: #d4ebff;}#sk-container-id-2 input.sk-hidden--visually {border: 0;clip: rect(1px 1px 1px 1px);clip: rect(1px, 1px, 1px, 1px);height: 1px;margin: -1px;overflow: hidden;padding: 0;position: absolute;width: 1px;}#sk-container-id-2 div.sk-estimator {font-family: monospace;background-color: #f0f8ff;border: 1px dotted black;border-radius: 0.25em;box-sizing: border-box;margin-bottom: 0.5em;}#sk-container-id-2 div.sk-estimator:hover {background-color: #d4ebff;}#sk-container-id-2 div.sk-parallel-item::after {content: \"\";width: 100%;border-bottom: 1px solid gray;flex-grow: 1;}#sk-container-id-2 div.sk-label:hover label.sk-toggleable__label {background-color: #d4ebff;}#sk-container-id-2 div.sk-serial::before {content: \"\";position: absolute;border-left: 1px solid gray;box-sizing: border-box;top: 0;bottom: 0;left: 50%;z-index: 0;}#sk-container-id-2 div.sk-serial {display: flex;flex-direction: column;align-items: center;background-color: white;padding-right: 0.2em;padding-left: 0.2em;position: relative;}#sk-container-id-2 div.sk-item {position: relative;z-index: 1;}#sk-container-id-2 div.sk-parallel {display: flex;align-items: stretch;justify-content: center;background-color: white;position: relative;}#sk-container-id-2 div.sk-item::before, #sk-container-id-2 div.sk-parallel-item::before {content: \"\";position: absolute;border-left: 1px solid gray;box-sizing: border-box;top: 0;bottom: 0;left: 50%;z-index: -1;}#sk-container-id-2 div.sk-parallel-item {display: flex;flex-direction: column;z-index: 1;position: relative;background-color: white;}#sk-container-id-2 div.sk-parallel-item:first-child::after {align-self: flex-end;width: 50%;}#sk-container-id-2 div.sk-parallel-item:last-child::after {align-self: flex-start;width: 50%;}#sk-container-id-2 div.sk-parallel-item:only-child::after {width: 0;}#sk-container-id-2 div.sk-dashed-wrapped {border: 1px dashed gray;margin: 0 0.4em 0.5em 0.4em;box-sizing: border-box;padding-bottom: 0.4em;background-color: white;}#sk-container-id-2 div.sk-label label {font-family: monospace;font-weight: bold;display: inline-block;line-height: 1.2em;}#sk-container-id-2 div.sk-label-container {text-align: center;}#sk-container-id-2 div.sk-container {/* jupyter's `normalize.less` sets `[hidden] { display: none; }` but bootstrap.min.css set `[hidden] { display: none !important; }` so we also need the `!important` here to be able to override the default hidden behavior on the sphinx rendered scikit-learn.org. See: https://github.com/scikit-learn/scikit-learn/issues/21755 */display: inline-block !important;position: relative;}#sk-container-id-2 div.sk-text-repr-fallback {display: none;}</style><div id=\"sk-container-id-2\" class=\"sk-top-container\"><div class=\"sk-text-repr-fallback\"><pre>GridSearchCV(cv=5,\n",
       "             estimator=Pipeline(steps=[(&#x27;scaler&#x27;, StandardScaler()),\n",
       "                                       (&#x27;lr&#x27;, LinearRegression())]),\n",
       "             n_jobs=-1,\n",
       "             param_grid={&#x27;lr__fit_intercept&#x27;: [True, False],\n",
       "                         &#x27;lr__positive&#x27;: [True, False]},\n",
       "             scoring=&#x27;neg_mean_squared_error&#x27;)</pre><b>In a Jupyter environment, please rerun this cell to show the HTML representation or trust the notebook. <br />On GitHub, the HTML representation is unable to render, please try loading this page with nbviewer.org.</b></div><div class=\"sk-container\" hidden><div class=\"sk-item sk-dashed-wrapped\"><div class=\"sk-label-container\"><div class=\"sk-label sk-toggleable\"><input class=\"sk-toggleable__control sk-hidden--visually\" id=\"sk-estimator-id-2\" type=\"checkbox\" ><label for=\"sk-estimator-id-2\" class=\"sk-toggleable__label sk-toggleable__label-arrow\">GridSearchCV</label><div class=\"sk-toggleable__content\"><pre>GridSearchCV(cv=5,\n",
       "             estimator=Pipeline(steps=[(&#x27;scaler&#x27;, StandardScaler()),\n",
       "                                       (&#x27;lr&#x27;, LinearRegression())]),\n",
       "             n_jobs=-1,\n",
       "             param_grid={&#x27;lr__fit_intercept&#x27;: [True, False],\n",
       "                         &#x27;lr__positive&#x27;: [True, False]},\n",
       "             scoring=&#x27;neg_mean_squared_error&#x27;)</pre></div></div></div><div class=\"sk-parallel\"><div class=\"sk-parallel-item\"><div class=\"sk-item\"><div class=\"sk-label-container\"><div class=\"sk-label sk-toggleable\"><input class=\"sk-toggleable__control sk-hidden--visually\" id=\"sk-estimator-id-3\" type=\"checkbox\" ><label for=\"sk-estimator-id-3\" class=\"sk-toggleable__label sk-toggleable__label-arrow\">estimator: Pipeline</label><div class=\"sk-toggleable__content\"><pre>Pipeline(steps=[(&#x27;scaler&#x27;, StandardScaler()), (&#x27;lr&#x27;, LinearRegression())])</pre></div></div></div><div class=\"sk-serial\"><div class=\"sk-item\"><div class=\"sk-serial\"><div class=\"sk-item\"><div class=\"sk-estimator sk-toggleable\"><input class=\"sk-toggleable__control sk-hidden--visually\" id=\"sk-estimator-id-4\" type=\"checkbox\" ><label for=\"sk-estimator-id-4\" class=\"sk-toggleable__label sk-toggleable__label-arrow\">StandardScaler</label><div class=\"sk-toggleable__content\"><pre>StandardScaler()</pre></div></div></div><div class=\"sk-item\"><div class=\"sk-estimator sk-toggleable\"><input class=\"sk-toggleable__control sk-hidden--visually\" id=\"sk-estimator-id-5\" type=\"checkbox\" ><label for=\"sk-estimator-id-5\" class=\"sk-toggleable__label sk-toggleable__label-arrow\">LinearRegression</label><div class=\"sk-toggleable__content\"><pre>LinearRegression()</pre></div></div></div></div></div></div></div></div></div></div></div></div>"
      ],
      "text/plain": [
       "GridSearchCV(cv=5,\n",
       "             estimator=Pipeline(steps=[('scaler', StandardScaler()),\n",
       "                                       ('lr', LinearRegression())]),\n",
       "             n_jobs=-1,\n",
       "             param_grid={'lr__fit_intercept': [True, False],\n",
       "                         'lr__positive': [True, False]},\n",
       "             scoring='neg_mean_squared_error')"
      ]
     },
     "execution_count": 22,
     "metadata": {},
     "output_type": "execute_result"
    }
   ],
   "source": [
    "grid_search = GridSearchCV(estimator=pipeline, param_grid=param_grid, cv=5, scoring='neg_mean_squared_error', n_jobs=-1)\n",
    "grid_search.fit(X_train, y_train)"
   ]
  },
  {
   "cell_type": "markdown",
   "id": "d7fb588f",
   "metadata": {
    "papermill": {
     "duration": 0.015354,
     "end_time": "2024-09-19T19:09:59.166042",
     "exception": false,
     "start_time": "2024-09-19T19:09:59.150688",
     "status": "completed"
    },
    "tags": []
   },
   "source": [
    "> # En iyi parametreleri bulma"
   ]
  },
  {
   "cell_type": "code",
   "execution_count": 23,
   "id": "9cf8701d",
   "metadata": {
    "execution": {
     "iopub.execute_input": "2024-09-19T19:09:59.199445Z",
     "iopub.status.busy": "2024-09-19T19:09:59.198994Z",
     "iopub.status.idle": "2024-09-19T19:09:59.205024Z",
     "shell.execute_reply": "2024-09-19T19:09:59.203926Z"
    },
    "papermill": {
     "duration": 0.025873,
     "end_time": "2024-09-19T19:09:59.207796",
     "exception": false,
     "start_time": "2024-09-19T19:09:59.181923",
     "status": "completed"
    },
    "tags": []
   },
   "outputs": [
    {
     "name": "stdout",
     "output_type": "stream",
     "text": [
      "Best parameters: {'lr__fit_intercept': True, 'lr__positive': False}\n"
     ]
    }
   ],
   "source": [
    "print(f\"Best parameters: {grid_search.best_params_}\")"
   ]
  },
  {
   "cell_type": "markdown",
   "id": "3e40d98e",
   "metadata": {
    "papermill": {
     "duration": 0.015632,
     "end_time": "2024-09-19T19:09:59.239378",
     "exception": false,
     "start_time": "2024-09-19T19:09:59.223746",
     "status": "completed"
    },
    "tags": []
   },
   "source": [
    "> # Test seti üzerinde tahminler yap"
   ]
  },
  {
   "cell_type": "code",
   "execution_count": 24,
   "id": "f4bda849",
   "metadata": {
    "execution": {
     "iopub.execute_input": "2024-09-19T19:09:59.273080Z",
     "iopub.status.busy": "2024-09-19T19:09:59.272139Z",
     "iopub.status.idle": "2024-09-19T19:09:59.312292Z",
     "shell.execute_reply": "2024-09-19T19:09:59.310782Z"
    },
    "papermill": {
     "duration": 0.061553,
     "end_time": "2024-09-19T19:09:59.316551",
     "exception": false,
     "start_time": "2024-09-19T19:09:59.254998",
     "status": "completed"
    },
    "tags": []
   },
   "outputs": [],
   "source": [
    "best_model = grid_search.best_estimator_\n",
    "y_pred = best_model.predict(X_test)"
   ]
  },
  {
   "cell_type": "markdown",
   "id": "2f83fdc3",
   "metadata": {
    "papermill": {
     "duration": 0.031954,
     "end_time": "2024-09-19T19:09:59.380748",
     "exception": false,
     "start_time": "2024-09-19T19:09:59.348794",
     "status": "completed"
    },
    "tags": []
   },
   "source": [
    "># Metriklerini hesaplama"
   ]
  },
  {
   "cell_type": "code",
   "execution_count": 25,
   "id": "12e469d4",
   "metadata": {
    "execution": {
     "iopub.execute_input": "2024-09-19T19:09:59.439028Z",
     "iopub.status.busy": "2024-09-19T19:09:59.437918Z",
     "iopub.status.idle": "2024-09-19T19:09:59.464247Z",
     "shell.execute_reply": "2024-09-19T19:09:59.463296Z"
    },
    "papermill": {
     "duration": 0.053823,
     "end_time": "2024-09-19T19:09:59.466750",
     "exception": false,
     "start_time": "2024-09-19T19:09:59.412927",
     "status": "completed"
    },
    "tags": []
   },
   "outputs": [],
   "source": [
    "mse = mean_squared_error(y_test, y_pred)\n",
    "r2 = r2_score(y_test, y_pred)"
   ]
  },
  {
   "cell_type": "code",
   "execution_count": 26,
   "id": "05b35385",
   "metadata": {
    "execution": {
     "iopub.execute_input": "2024-09-19T19:09:59.499849Z",
     "iopub.status.busy": "2024-09-19T19:09:59.499459Z",
     "iopub.status.idle": "2024-09-19T19:09:59.505062Z",
     "shell.execute_reply": "2024-09-19T19:09:59.504003Z"
    },
    "papermill": {
     "duration": 0.025234,
     "end_time": "2024-09-19T19:09:59.507747",
     "exception": false,
     "start_time": "2024-09-19T19:09:59.482513",
     "status": "completed"
    },
    "tags": []
   },
   "outputs": [
    {
     "name": "stdout",
     "output_type": "stream",
     "text": [
      "Mean Squared Error after tuning: 95.4048844784173\n",
      "R2 Score after tuning: 0.9999997305684319\n"
     ]
    }
   ],
   "source": [
    "print(f\"Mean Squared Error after tuning: {mse}\")\n",
    "print(f\"R2 Score after tuning: {r2}\")"
   ]
  },
  {
   "cell_type": "code",
   "execution_count": 27,
   "id": "8df4b52c",
   "metadata": {
    "execution": {
     "iopub.execute_input": "2024-09-19T19:09:59.541925Z",
     "iopub.status.busy": "2024-09-19T19:09:59.540861Z",
     "iopub.status.idle": "2024-09-19T19:09:59.556741Z",
     "shell.execute_reply": "2024-09-19T19:09:59.553946Z"
    },
    "papermill": {
     "duration": 0.036,
     "end_time": "2024-09-19T19:09:59.559527",
     "exception": false,
     "start_time": "2024-09-19T19:09:59.523527",
     "status": "completed"
    },
    "tags": []
   },
   "outputs": [
    {
     "data": {
      "text/plain": [
       "<Figure size 1200x600 with 0 Axes>"
      ]
     },
     "execution_count": 27,
     "metadata": {},
     "output_type": "execute_result"
    },
    {
     "data": {
      "text/plain": [
       "<Figure size 1200x600 with 0 Axes>"
      ]
     },
     "metadata": {},
     "output_type": "display_data"
    }
   ],
   "source": [
    "plt.figure(figsize=(12, 6))"
   ]
  },
  {
   "cell_type": "code",
   "execution_count": 28,
   "id": "6c61a962",
   "metadata": {
    "execution": {
     "iopub.execute_input": "2024-09-19T19:09:59.594081Z",
     "iopub.status.busy": "2024-09-19T19:09:59.593659Z",
     "iopub.status.idle": "2024-09-19T19:10:05.168211Z",
     "shell.execute_reply": "2024-09-19T19:10:05.167057Z"
    },
    "papermill": {
     "duration": 5.59543,
     "end_time": "2024-09-19T19:10:05.171329",
     "exception": false,
     "start_time": "2024-09-19T19:09:59.575899",
     "status": "completed"
    },
    "tags": []
   },
   "outputs": [
    {
     "data": {
      "text/plain": [
       "Text(0.5, 1.0, 'Gerçek Değerler vs Tahminler (İyileştirilmiş Model)')"
      ]
     },
     "execution_count": 28,
     "metadata": {},
     "output_type": "execute_result"
    },
    {
     "data": {
      "image/png": "[encoded data removed]",
      "text/plain": [
       "<Figure size 640x480 with 1 Axes>"
      ]
     },
     "metadata": {},
     "output_type": "display_data"
    }
   ],
   "source": [
    "plt.subplot(1, 2, 1)\n",
    "sns.scatterplot(x=y_test, y=y_pred)\n",
    "plt.xlabel('Gerçek Değerler')\n",
    "plt.ylabel('Tahminler')\n",
    "plt.title('Gerçek Değerler vs Tahminler (İyileştirilmiş Model)')"
   ]
  },
  {
   "cell_type": "code",
   "execution_count": 29,
   "id": "9eb1a723",
   "metadata": {
    "execution": {
     "iopub.execute_input": "2024-09-19T19:10:05.208443Z",
     "iopub.status.busy": "2024-09-19T19:10:05.207607Z",
     "iopub.status.idle": "2024-09-19T19:10:12.446972Z",
     "shell.execute_reply": "2024-09-19T19:10:12.445466Z"
    },
    "papermill": {
     "duration": 7.261372,
     "end_time": "2024-09-19T19:10:12.450285",
     "exception": false,
     "start_time": "2024-09-19T19:10:05.188913",
     "status": "completed"
    },
    "tags": []
   },
   "outputs": [
    {
     "name": "stderr",
     "output_type": "stream",
     "text": [
      "/opt/conda/lib/python3.10/site-packages/seaborn/_oldcore.py:1119: FutureWarning: use_inf_as_na option is deprecated and will be removed in a future version. Convert inf values to NaN before operating instead.\n",
      "  with pd.option_context('mode.use_inf_as_na', True):\n"
     ]
    },
    {
     "data": {
      "image/png": "[encoded data removed]",
      "text/plain": [
       "<Figure size 640x480 with 1 Axes>"
      ]
     },
     "metadata": {},
     "output_type": "display_data"
    }
   ],
   "source": [
    "plt.subplot(1, 2, 2)\n",
    "sns.histplot(y_test - y_pred, bins=30, kde=True)\n",
    "plt.xlabel('Hata')\n",
    "plt.title('Tahmin Hatalarının Dağılımı (İyileştirilmiş Model)')\n",
    "plt.tight_layout()\n",
    "plt.show()"
   ]
  }
 ],
 "metadata": {
  "kaggle": {
   "accelerator": "none",
   "dataSources": [
    {
     "datasetId": 1346,
     "sourceId": 9423564,
     "sourceType": "datasetVersion"
    }
   ],
   "dockerImageVersionId": 30761,
   "isGpuEnabled": false,
   "isInternetEnabled": false,
   "language": "python",
   "sourceType": "notebook"
  },
  "kernelspec": {
   "display_name": "Python 3",
   "language": "python",
   "name": "python3"
  },
  "language_info": {
   "codemirror_mode": {
    "name": "ipython",
    "version": 3
   },
   "file_extension": ".py",
   "mimetype": "text/x-python",
   "name": "python",
   "nbconvert_exporter": "python",
   "pygments_lexer": "ipython3",
   "version": "3.10.14"
  },
  "papermill": {
   "default_parameters": {},
   "duration": 78.565527,
   "end_time": "2024-09-19T19:10:15.090603",
   "environment_variables": {},
   "exception": null,
   "input_path": "__notebook__.ipynb",
   "output_path": "__notebook__.ipynb",
   "parameters": {},
   "start_time": "2024-09-19T19:08:56.525076",
   "version": "2.6.0"
  }
 },
 "nbformat": 4,
 "nbformat_minor": 5
}
